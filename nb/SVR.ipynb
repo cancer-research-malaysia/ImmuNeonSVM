{
 "cells": [
  {
   "cell_type": "raw",
   "metadata": {
    "vscode": {
     "languageId": "raw"
    }
   },
   "source": [
    "title: \"Support Vector Regressor\"\n",
    "author: Suffian Azizan\n",
    "date: \"{{ datetime.now().strftime('%Y-%m-%d') }}\"\n",
    "output:\n",
    "    html:\n",
    "        theme: united\n",
    "        code_tools: true"
   ]
  },
  {
   "cell_type": "code",
   "execution_count": 2,
   "metadata": {},
   "outputs": [],
   "source": [
    "# first, import packages\n",
    "import pandas as pd\n",
    "from IPython.display import HTML, display\n",
    "\n",
    "# load pretty jupyter's magics\n",
    "%load_ext pretty_jupyter"
   ]
  },
  {
   "cell_type": "markdown",
   "metadata": {},
   "source": [
    "# Support Vector Regression\n",
    "### *Exploring the association between neoantigen-related variables and immune scores*\n",
    "This notebook is the continuation of the `xgboost_tuned.ipynb` notebook, detailing the testing of SVR application on our neoantigen dataset."
   ]
  }
 ],
 "metadata": {
  "kernelspec": {
   "display_name": "svectors",
   "language": "python",
   "name": "python3"
  },
  "language_info": {
   "codemirror_mode": {
    "name": "ipython",
    "version": 3
   },
   "file_extension": ".py",
   "mimetype": "text/x-python",
   "name": "python",
   "nbconvert_exporter": "python",
   "pygments_lexer": "ipython3",
   "version": "3.12.7"
  }
 },
 "nbformat": 4,
 "nbformat_minor": 2
}
