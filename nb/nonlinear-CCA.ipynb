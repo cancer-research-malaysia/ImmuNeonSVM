{
 "cells": [
  {
   "cell_type": "markdown",
   "metadata": {},
   "source": [
    "Canonical Correlation Analysis of Neoantigen Counts"
   ]
  }
 ],
 "metadata": {
  "kernelspec": {
   "display_name": "datasci",
   "language": "python",
   "name": "python3"
  },
  "language_info": {
   "name": "python",
   "version": "3.10.14"
  }
 },
 "nbformat": 4,
 "nbformat_minor": 2
}
